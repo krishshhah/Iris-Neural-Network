{
  "nbformat": 4,
  "nbformat_minor": 0,
  "metadata": {
    "colab": {
      "provenance": [],
      "gpuType": "T4",
      "authorship_tag": "ABX9TyN087ZaKYZ9XDNQzicQlO8E",
      "include_colab_link": true
    },
    "kernelspec": {
      "name": "python3",
      "display_name": "Python 3"
    },
    "language_info": {
      "name": "python"
    },
    "accelerator": "GPU"
  },
  "cells": [
    {
      "cell_type": "markdown",
      "metadata": {
        "id": "view-in-github",
        "colab_type": "text"
      },
      "source": [
        "<a href=\"https://colab.research.google.com/github/krishshhah/Wheat-Seeds-Neural-Network/blob/main/Wheat_seeds_NN.ipynb\" target=\"_parent\"><img src=\"https://colab.research.google.com/assets/colab-badge.svg\" alt=\"Open In Colab\"/></a>"
      ]
    },
    {
      "cell_type": "code",
      "execution_count": 43,
      "metadata": {
        "id": "lthHQAqRZNO-"
      },
      "outputs": [],
      "source": [
        "import torch\n",
        "import torch.nn as nn\n",
        "import torch.nn.functional as F"
      ]
    },
    {
      "cell_type": "code",
      "execution_count": 44,
      "metadata": {
        "colab": {
          "base_uri": "https://localhost:8080/"
        },
        "id": "YcPMm85GcxAK",
        "outputId": "5712293e-b89d-4c44-bc71-60753a7240fa"
      },
      "outputs": [
        {
          "output_type": "stream",
          "name": "stdout",
          "text": [
            "    area  perimeter  compactness  kernel_length  kernel_width  \\\n",
            "0  15.26      14.84       0.8710          5.763         3.312   \n",
            "1  14.88      14.57       0.8811          5.554         3.333   \n",
            "2  14.29      14.09       0.9050          5.291         3.337   \n",
            "3  13.84      13.94       0.8955          5.324         3.379   \n",
            "4  16.14      14.99       0.9034          5.658         3.562   \n",
            "\n",
            "   asymmetry_coefficient  groove_length  class  \n",
            "0                  2.221          5.220      1  \n",
            "1                  1.018          4.956      1  \n",
            "2                  2.699          4.825      1  \n",
            "3                  2.259          4.805      1  \n",
            "4                  1.355          5.175      1  \n"
          ]
        }
      ],
      "source": [
        "import pandas as pd\n",
        "\n",
        "column_names = [\n",
        "    'area',\n",
        "    'perimeter',\n",
        "    'compactness',\n",
        "    'kernel_length',\n",
        "    'kernel_width',\n",
        "    'asymmetry_coefficient',\n",
        "    'groove_length',\n",
        "    'class' # 3 classes: 1,2,3\n",
        "]\n",
        "\n",
        "# Load the dataset from the URL\n",
        "url = 'https://archive.ics.uci.edu/ml/machine-learning-databases/00236/seeds_dataset.txt'\n",
        "df = pd.read_csv(url, sep='\\s+', header=None, names=column_names)\n",
        "\n",
        "# Display the first few rows of the DataFrame\n",
        "print(df.head())"
      ]
    },
    {
      "cell_type": "code",
      "source": [
        "df['class'] = df['class'].replace(1, 0)\n",
        "df['class'] = df['class'].replace(2, 1)\n",
        "df['class'] = df['class'].replace(3, 2)\n",
        "print(df.head())\n",
        "\n",
        "# classes have been set to start from 0, for index purposes"
      ],
      "metadata": {
        "colab": {
          "base_uri": "https://localhost:8080/"
        },
        "id": "xpGIrr5oGKSE",
        "outputId": "068e908d-d853-4f8f-f808-912c2c2887bd"
      },
      "execution_count": 45,
      "outputs": [
        {
          "output_type": "stream",
          "name": "stdout",
          "text": [
            "    area  perimeter  compactness  kernel_length  kernel_width  \\\n",
            "0  15.26      14.84       0.8710          5.763         3.312   \n",
            "1  14.88      14.57       0.8811          5.554         3.333   \n",
            "2  14.29      14.09       0.9050          5.291         3.337   \n",
            "3  13.84      13.94       0.8955          5.324         3.379   \n",
            "4  16.14      14.99       0.9034          5.658         3.562   \n",
            "\n",
            "   asymmetry_coefficient  groove_length  class  \n",
            "0                  2.221          5.220      0  \n",
            "1                  1.018          4.956      0  \n",
            "2                  2.699          4.825      0  \n",
            "3                  2.259          4.805      0  \n",
            "4                  1.355          5.175      0  \n"
          ]
        }
      ]
    },
    {
      "cell_type": "code",
      "source": [
        "df.describe()"
      ],
      "metadata": {
        "colab": {
          "base_uri": "https://localhost:8080/",
          "height": 300
        },
        "id": "o6xIqM6iJ3vP",
        "outputId": "7906c6de-9516-48e8-baad-b7037573ffea"
      },
      "execution_count": 46,
      "outputs": [
        {
          "output_type": "execute_result",
          "data": {
            "text/plain": [
              "             area   perimeter  compactness  kernel_length  kernel_width  \\\n",
              "count  210.000000  210.000000   210.000000     210.000000    210.000000   \n",
              "mean    14.847524   14.559286     0.870999       5.628533      3.258605   \n",
              "std      2.909699    1.305959     0.023629       0.443063      0.377714   \n",
              "min     10.590000   12.410000     0.808100       4.899000      2.630000   \n",
              "25%     12.270000   13.450000     0.856900       5.262250      2.944000   \n",
              "50%     14.355000   14.320000     0.873450       5.523500      3.237000   \n",
              "75%     17.305000   15.715000     0.887775       5.979750      3.561750   \n",
              "max     21.180000   17.250000     0.918300       6.675000      4.033000   \n",
              "\n",
              "       asymmetry_coefficient  groove_length       class  \n",
              "count             210.000000     210.000000  210.000000  \n",
              "mean                3.700201       5.408071    1.000000  \n",
              "std                 1.503557       0.491480    0.818448  \n",
              "min                 0.765100       4.519000    0.000000  \n",
              "25%                 2.561500       5.045000    0.000000  \n",
              "50%                 3.599000       5.223000    1.000000  \n",
              "75%                 4.768750       5.877000    2.000000  \n",
              "max                 8.456000       6.550000    2.000000  "
            ],
            "text/html": [
              "\n",
              "  <div id=\"df-df7ead60-e7ae-4e80-ba37-3be42b61aa1c\" class=\"colab-df-container\">\n",
              "    <div>\n",
              "<style scoped>\n",
              "    .dataframe tbody tr th:only-of-type {\n",
              "        vertical-align: middle;\n",
              "    }\n",
              "\n",
              "    .dataframe tbody tr th {\n",
              "        vertical-align: top;\n",
              "    }\n",
              "\n",
              "    .dataframe thead th {\n",
              "        text-align: right;\n",
              "    }\n",
              "</style>\n",
              "<table border=\"1\" class=\"dataframe\">\n",
              "  <thead>\n",
              "    <tr style=\"text-align: right;\">\n",
              "      <th></th>\n",
              "      <th>area</th>\n",
              "      <th>perimeter</th>\n",
              "      <th>compactness</th>\n",
              "      <th>kernel_length</th>\n",
              "      <th>kernel_width</th>\n",
              "      <th>asymmetry_coefficient</th>\n",
              "      <th>groove_length</th>\n",
              "      <th>class</th>\n",
              "    </tr>\n",
              "  </thead>\n",
              "  <tbody>\n",
              "    <tr>\n",
              "      <th>count</th>\n",
              "      <td>210.000000</td>\n",
              "      <td>210.000000</td>\n",
              "      <td>210.000000</td>\n",
              "      <td>210.000000</td>\n",
              "      <td>210.000000</td>\n",
              "      <td>210.000000</td>\n",
              "      <td>210.000000</td>\n",
              "      <td>210.000000</td>\n",
              "    </tr>\n",
              "    <tr>\n",
              "      <th>mean</th>\n",
              "      <td>14.847524</td>\n",
              "      <td>14.559286</td>\n",
              "      <td>0.870999</td>\n",
              "      <td>5.628533</td>\n",
              "      <td>3.258605</td>\n",
              "      <td>3.700201</td>\n",
              "      <td>5.408071</td>\n",
              "      <td>1.000000</td>\n",
              "    </tr>\n",
              "    <tr>\n",
              "      <th>std</th>\n",
              "      <td>2.909699</td>\n",
              "      <td>1.305959</td>\n",
              "      <td>0.023629</td>\n",
              "      <td>0.443063</td>\n",
              "      <td>0.377714</td>\n",
              "      <td>1.503557</td>\n",
              "      <td>0.491480</td>\n",
              "      <td>0.818448</td>\n",
              "    </tr>\n",
              "    <tr>\n",
              "      <th>min</th>\n",
              "      <td>10.590000</td>\n",
              "      <td>12.410000</td>\n",
              "      <td>0.808100</td>\n",
              "      <td>4.899000</td>\n",
              "      <td>2.630000</td>\n",
              "      <td>0.765100</td>\n",
              "      <td>4.519000</td>\n",
              "      <td>0.000000</td>\n",
              "    </tr>\n",
              "    <tr>\n",
              "      <th>25%</th>\n",
              "      <td>12.270000</td>\n",
              "      <td>13.450000</td>\n",
              "      <td>0.856900</td>\n",
              "      <td>5.262250</td>\n",
              "      <td>2.944000</td>\n",
              "      <td>2.561500</td>\n",
              "      <td>5.045000</td>\n",
              "      <td>0.000000</td>\n",
              "    </tr>\n",
              "    <tr>\n",
              "      <th>50%</th>\n",
              "      <td>14.355000</td>\n",
              "      <td>14.320000</td>\n",
              "      <td>0.873450</td>\n",
              "      <td>5.523500</td>\n",
              "      <td>3.237000</td>\n",
              "      <td>3.599000</td>\n",
              "      <td>5.223000</td>\n",
              "      <td>1.000000</td>\n",
              "    </tr>\n",
              "    <tr>\n",
              "      <th>75%</th>\n",
              "      <td>17.305000</td>\n",
              "      <td>15.715000</td>\n",
              "      <td>0.887775</td>\n",
              "      <td>5.979750</td>\n",
              "      <td>3.561750</td>\n",
              "      <td>4.768750</td>\n",
              "      <td>5.877000</td>\n",
              "      <td>2.000000</td>\n",
              "    </tr>\n",
              "    <tr>\n",
              "      <th>max</th>\n",
              "      <td>21.180000</td>\n",
              "      <td>17.250000</td>\n",
              "      <td>0.918300</td>\n",
              "      <td>6.675000</td>\n",
              "      <td>4.033000</td>\n",
              "      <td>8.456000</td>\n",
              "      <td>6.550000</td>\n",
              "      <td>2.000000</td>\n",
              "    </tr>\n",
              "  </tbody>\n",
              "</table>\n",
              "</div>\n",
              "    <div class=\"colab-df-buttons\">\n",
              "\n",
              "  <div class=\"colab-df-container\">\n",
              "    <button class=\"colab-df-convert\" onclick=\"convertToInteractive('df-df7ead60-e7ae-4e80-ba37-3be42b61aa1c')\"\n",
              "            title=\"Convert this dataframe to an interactive table.\"\n",
              "            style=\"display:none;\">\n",
              "\n",
              "  <svg xmlns=\"http://www.w3.org/2000/svg\" height=\"24px\" viewBox=\"0 -960 960 960\">\n",
              "    <path d=\"M120-120v-720h720v720H120Zm60-500h600v-160H180v160Zm220 220h160v-160H400v160Zm0 220h160v-160H400v160ZM180-400h160v-160H180v160Zm440 0h160v-160H620v160ZM180-180h160v-160H180v160Zm440 0h160v-160H620v160Z\"/>\n",
              "  </svg>\n",
              "    </button>\n",
              "\n",
              "  <style>\n",
              "    .colab-df-container {\n",
              "      display:flex;\n",
              "      gap: 12px;\n",
              "    }\n",
              "\n",
              "    .colab-df-convert {\n",
              "      background-color: #E8F0FE;\n",
              "      border: none;\n",
              "      border-radius: 50%;\n",
              "      cursor: pointer;\n",
              "      display: none;\n",
              "      fill: #1967D2;\n",
              "      height: 32px;\n",
              "      padding: 0 0 0 0;\n",
              "      width: 32px;\n",
              "    }\n",
              "\n",
              "    .colab-df-convert:hover {\n",
              "      background-color: #E2EBFA;\n",
              "      box-shadow: 0px 1px 2px rgba(60, 64, 67, 0.3), 0px 1px 3px 1px rgba(60, 64, 67, 0.15);\n",
              "      fill: #174EA6;\n",
              "    }\n",
              "\n",
              "    .colab-df-buttons div {\n",
              "      margin-bottom: 4px;\n",
              "    }\n",
              "\n",
              "    [theme=dark] .colab-df-convert {\n",
              "      background-color: #3B4455;\n",
              "      fill: #D2E3FC;\n",
              "    }\n",
              "\n",
              "    [theme=dark] .colab-df-convert:hover {\n",
              "      background-color: #434B5C;\n",
              "      box-shadow: 0px 1px 3px 1px rgba(0, 0, 0, 0.15);\n",
              "      filter: drop-shadow(0px 1px 2px rgba(0, 0, 0, 0.3));\n",
              "      fill: #FFFFFF;\n",
              "    }\n",
              "  </style>\n",
              "\n",
              "    <script>\n",
              "      const buttonEl =\n",
              "        document.querySelector('#df-df7ead60-e7ae-4e80-ba37-3be42b61aa1c button.colab-df-convert');\n",
              "      buttonEl.style.display =\n",
              "        google.colab.kernel.accessAllowed ? 'block' : 'none';\n",
              "\n",
              "      async function convertToInteractive(key) {\n",
              "        const element = document.querySelector('#df-df7ead60-e7ae-4e80-ba37-3be42b61aa1c');\n",
              "        const dataTable =\n",
              "          await google.colab.kernel.invokeFunction('convertToInteractive',\n",
              "                                                    [key], {});\n",
              "        if (!dataTable) return;\n",
              "\n",
              "        const docLinkHtml = 'Like what you see? Visit the ' +\n",
              "          '<a target=\"_blank\" href=https://colab.research.google.com/notebooks/data_table.ipynb>data table notebook</a>'\n",
              "          + ' to learn more about interactive tables.';\n",
              "        element.innerHTML = '';\n",
              "        dataTable['output_type'] = 'display_data';\n",
              "        await google.colab.output.renderOutput(dataTable, element);\n",
              "        const docLink = document.createElement('div');\n",
              "        docLink.innerHTML = docLinkHtml;\n",
              "        element.appendChild(docLink);\n",
              "      }\n",
              "    </script>\n",
              "  </div>\n",
              "\n",
              "\n",
              "<div id=\"df-7466fbdf-70ee-42f9-b627-b2b6d4dca6c6\">\n",
              "  <button class=\"colab-df-quickchart\" onclick=\"quickchart('df-7466fbdf-70ee-42f9-b627-b2b6d4dca6c6')\"\n",
              "            title=\"Suggest charts\"\n",
              "            style=\"display:none;\">\n",
              "\n",
              "<svg xmlns=\"http://www.w3.org/2000/svg\" height=\"24px\"viewBox=\"0 0 24 24\"\n",
              "     width=\"24px\">\n",
              "    <g>\n",
              "        <path d=\"M19 3H5c-1.1 0-2 .9-2 2v14c0 1.1.9 2 2 2h14c1.1 0 2-.9 2-2V5c0-1.1-.9-2-2-2zM9 17H7v-7h2v7zm4 0h-2V7h2v10zm4 0h-2v-4h2v4z\"/>\n",
              "    </g>\n",
              "</svg>\n",
              "  </button>\n",
              "\n",
              "<style>\n",
              "  .colab-df-quickchart {\n",
              "      --bg-color: #E8F0FE;\n",
              "      --fill-color: #1967D2;\n",
              "      --hover-bg-color: #E2EBFA;\n",
              "      --hover-fill-color: #174EA6;\n",
              "      --disabled-fill-color: #AAA;\n",
              "      --disabled-bg-color: #DDD;\n",
              "  }\n",
              "\n",
              "  [theme=dark] .colab-df-quickchart {\n",
              "      --bg-color: #3B4455;\n",
              "      --fill-color: #D2E3FC;\n",
              "      --hover-bg-color: #434B5C;\n",
              "      --hover-fill-color: #FFFFFF;\n",
              "      --disabled-bg-color: #3B4455;\n",
              "      --disabled-fill-color: #666;\n",
              "  }\n",
              "\n",
              "  .colab-df-quickchart {\n",
              "    background-color: var(--bg-color);\n",
              "    border: none;\n",
              "    border-radius: 50%;\n",
              "    cursor: pointer;\n",
              "    display: none;\n",
              "    fill: var(--fill-color);\n",
              "    height: 32px;\n",
              "    padding: 0;\n",
              "    width: 32px;\n",
              "  }\n",
              "\n",
              "  .colab-df-quickchart:hover {\n",
              "    background-color: var(--hover-bg-color);\n",
              "    box-shadow: 0 1px 2px rgba(60, 64, 67, 0.3), 0 1px 3px 1px rgba(60, 64, 67, 0.15);\n",
              "    fill: var(--button-hover-fill-color);\n",
              "  }\n",
              "\n",
              "  .colab-df-quickchart-complete:disabled,\n",
              "  .colab-df-quickchart-complete:disabled:hover {\n",
              "    background-color: var(--disabled-bg-color);\n",
              "    fill: var(--disabled-fill-color);\n",
              "    box-shadow: none;\n",
              "  }\n",
              "\n",
              "  .colab-df-spinner {\n",
              "    border: 2px solid var(--fill-color);\n",
              "    border-color: transparent;\n",
              "    border-bottom-color: var(--fill-color);\n",
              "    animation:\n",
              "      spin 1s steps(1) infinite;\n",
              "  }\n",
              "\n",
              "  @keyframes spin {\n",
              "    0% {\n",
              "      border-color: transparent;\n",
              "      border-bottom-color: var(--fill-color);\n",
              "      border-left-color: var(--fill-color);\n",
              "    }\n",
              "    20% {\n",
              "      border-color: transparent;\n",
              "      border-left-color: var(--fill-color);\n",
              "      border-top-color: var(--fill-color);\n",
              "    }\n",
              "    30% {\n",
              "      border-color: transparent;\n",
              "      border-left-color: var(--fill-color);\n",
              "      border-top-color: var(--fill-color);\n",
              "      border-right-color: var(--fill-color);\n",
              "    }\n",
              "    40% {\n",
              "      border-color: transparent;\n",
              "      border-right-color: var(--fill-color);\n",
              "      border-top-color: var(--fill-color);\n",
              "    }\n",
              "    60% {\n",
              "      border-color: transparent;\n",
              "      border-right-color: var(--fill-color);\n",
              "    }\n",
              "    80% {\n",
              "      border-color: transparent;\n",
              "      border-right-color: var(--fill-color);\n",
              "      border-bottom-color: var(--fill-color);\n",
              "    }\n",
              "    90% {\n",
              "      border-color: transparent;\n",
              "      border-bottom-color: var(--fill-color);\n",
              "    }\n",
              "  }\n",
              "</style>\n",
              "\n",
              "  <script>\n",
              "    async function quickchart(key) {\n",
              "      const quickchartButtonEl =\n",
              "        document.querySelector('#' + key + ' button');\n",
              "      quickchartButtonEl.disabled = true;  // To prevent multiple clicks.\n",
              "      quickchartButtonEl.classList.add('colab-df-spinner');\n",
              "      try {\n",
              "        const charts = await google.colab.kernel.invokeFunction(\n",
              "            'suggestCharts', [key], {});\n",
              "      } catch (error) {\n",
              "        console.error('Error during call to suggestCharts:', error);\n",
              "      }\n",
              "      quickchartButtonEl.classList.remove('colab-df-spinner');\n",
              "      quickchartButtonEl.classList.add('colab-df-quickchart-complete');\n",
              "    }\n",
              "    (() => {\n",
              "      let quickchartButtonEl =\n",
              "        document.querySelector('#df-7466fbdf-70ee-42f9-b627-b2b6d4dca6c6 button');\n",
              "      quickchartButtonEl.style.display =\n",
              "        google.colab.kernel.accessAllowed ? 'block' : 'none';\n",
              "    })();\n",
              "  </script>\n",
              "</div>\n",
              "    </div>\n",
              "  </div>\n"
            ],
            "application/vnd.google.colaboratory.intrinsic+json": {
              "type": "dataframe",
              "summary": "{\n  \"name\": \"df\",\n  \"rows\": 8,\n  \"fields\": [\n    {\n      \"column\": \"area\",\n      \"properties\": {\n        \"dtype\": \"number\",\n        \"std\": 69.7290183208939,\n        \"min\": 2.909699430687361,\n        \"max\": 210.0,\n        \"num_unique_values\": 8,\n        \"samples\": [\n          14.84752380952381,\n          14.355,\n          210.0\n        ],\n        \"semantic_type\": \"\",\n        \"description\": \"\"\n      }\n    },\n    {\n      \"column\": \"perimeter\",\n      \"properties\": {\n        \"dtype\": \"number\",\n        \"std\": 69.92065326255143,\n        \"min\": 1.305958726564022,\n        \"max\": 210.0,\n        \"num_unique_values\": 8,\n        \"samples\": [\n          14.559285714285714,\n          14.32,\n          210.0\n        ],\n        \"semantic_type\": \"\",\n        \"description\": \"\"\n      }\n    },\n    {\n      \"column\": \"compactness\",\n      \"properties\": {\n        \"dtype\": \"number\",\n        \"std\": 73.98219304279458,\n        \"min\": 0.0236294165838465,\n        \"max\": 210.0,\n        \"num_unique_values\": 8,\n        \"samples\": [\n          0.8709985714285714,\n          0.8734500000000001,\n          210.0\n        ],\n        \"semantic_type\": \"\",\n        \"description\": \"\"\n      }\n    },\n    {\n      \"column\": \"kernel_length\",\n      \"properties\": {\n        \"dtype\": \"number\",\n        \"std\": 72.53303899953512,\n        \"min\": 0.4430634777264492,\n        \"max\": 210.0,\n        \"num_unique_values\": 8,\n        \"samples\": [\n          5.628533333333334,\n          5.5235,\n          210.0\n        ],\n        \"semantic_type\": \"\",\n        \"description\": \"\"\n      }\n    },\n    {\n      \"column\": \"kernel_width\",\n      \"properties\": {\n        \"dtype\": \"number\",\n        \"std\": 73.24211837620656,\n        \"min\": 0.37771444490658723,\n        \"max\": 210.0,\n        \"num_unique_values\": 8,\n        \"samples\": [\n          3.258604761904762,\n          3.237,\n          210.0\n        ],\n        \"semantic_type\": \"\",\n        \"description\": \"\"\n      }\n    },\n    {\n      \"column\": \"asymmetry_coefficient\",\n      \"properties\": {\n        \"dtype\": \"number\",\n        \"std\": 73.00327979031506,\n        \"min\": 0.7651,\n        \"max\": 210.0,\n        \"num_unique_values\": 8,\n        \"samples\": [\n          3.700200952380953,\n          3.599,\n          210.0\n        ],\n        \"semantic_type\": \"\",\n        \"description\": \"\"\n      }\n    },\n    {\n      \"column\": \"groove_length\",\n      \"properties\": {\n        \"dtype\": \"number\",\n        \"std\": 72.59679119462936,\n        \"min\": 0.4914804991024054,\n        \"max\": 210.0,\n        \"num_unique_values\": 8,\n        \"samples\": [\n          5.408071428571429,\n          5.223000000000001,\n          210.0\n        ],\n        \"semantic_type\": \"\",\n        \"description\": \"\"\n      }\n    },\n    {\n      \"column\": \"class\",\n      \"properties\": {\n        \"dtype\": \"number\",\n        \"std\": 73.90572175267242,\n        \"min\": 0.0,\n        \"max\": 210.0,\n        \"num_unique_values\": 5,\n        \"samples\": [\n          1.0,\n          2.0,\n          0.8184475910711349\n        ],\n        \"semantic_type\": \"\",\n        \"description\": \"\"\n      }\n    }\n  ]\n}"
            }
          },
          "metadata": {},
          "execution_count": 46
        }
      ]
    },
    {
      "cell_type": "code",
      "execution_count": 47,
      "metadata": {
        "id": "id06HtzXZy0L"
      },
      "outputs": [],
      "source": [
        "# Create a model class to inherit the nn.Module\n",
        "\n",
        "class Model(nn.Module):\n",
        "  # input layer contains 4 inputs of the model\n",
        "  # 1st hidden layer (l1) will have 10 neurons\n",
        "  # 2nd hidden layer (l2) will have 10 neurons\n",
        "  # output layer has 3 neurons to pick a flower\n",
        "\n",
        "  def __init__(self, in_features=7, L1=20, L2=20, L3=20, out_features=3):\n",
        "    super().__init__() # inherites from the superclass (nn.Module)\n",
        "    self.fc1 = nn.Linear(in_features, L1) #fc1 = fully connected\n",
        "    self.fc2 = nn.Linear(L1, L2) # stars with input features, moving FORWARD to the next stage\n",
        "    self.fc3 = nn.Linear(L2, L3) # stars with input features, moving FORWARD to the next stage\n",
        "    self.out = nn.Linear(L2, out_features)\n",
        "\n",
        "  def forward(self, x):\n",
        "    x = F.relu(self.fc1(x)) # relu = rectified linear unit. If output<0, it is 0. if >0, then use the output\n",
        "    x = F.relu(self.fc2(x)) # moves the object forward\n",
        "    x = F.relu(self.fc3(x)) # moves the object forward\n",
        "    x = F.relu(self.out(x))\n",
        "\n",
        "    return x"
      ]
    },
    {
      "cell_type": "code",
      "execution_count": 48,
      "metadata": {
        "id": "G5XTLy89b2F7"
      },
      "outputs": [],
      "source": [
        "# Create random seed for randomisation\n",
        "torch.manual_seed(41)\n",
        "model = Model() # creates an instance"
      ]
    },
    {
      "cell_type": "code",
      "execution_count": 49,
      "metadata": {
        "id": "yecjkbMWcoza"
      },
      "outputs": [],
      "source": [
        "import matplotlib.pyplot as plt\n",
        "%matplotlib inline"
      ]
    },
    {
      "cell_type": "code",
      "execution_count": 50,
      "metadata": {
        "id": "Bgg7J-Ytd5lL"
      },
      "outputs": [],
      "source": [
        "#train, test, split: set features (X) and targets (y)\n",
        "X = df.drop('class', axis = 1) # selects only the targets, axis (columns)\n",
        "y = df['class']\n",
        "\n",
        "#convert to numpy arrays\n",
        "X = X.values\n",
        "y = y.values"
      ]
    },
    {
      "cell_type": "code",
      "execution_count": 51,
      "metadata": {
        "id": "arncGFfEeiXS"
      },
      "outputs": [],
      "source": [
        "from sklearn.model_selection import train_test_split\n",
        "\n",
        "X_train, X_test, y_train, y_test = train_test_split(X, y, test_size = 0.2, random_state = 41) #80% train, 20% test"
      ]
    },
    {
      "cell_type": "code",
      "execution_count": 52,
      "metadata": {
        "id": "tD5YY2R3fIr5"
      },
      "outputs": [],
      "source": [
        "X_train = torch.FloatTensor(X_train) # converts numpy arrays to floatTensors (all features are decimals)\n",
        "X_test = torch.FloatTensor(X_test)"
      ]
    },
    {
      "cell_type": "code",
      "execution_count": 53,
      "metadata": {
        "id": "3PJE91TOgtci"
      },
      "outputs": [],
      "source": [
        "y_train = torch.LongTensor(y_train) # converts numpy arrays to longTensors (all targets are integers)\n",
        "y_test = torch.LongTensor(y_test)"
      ]
    },
    {
      "cell_type": "code",
      "execution_count": 54,
      "metadata": {
        "id": "m0mWNJyOin82"
      },
      "outputs": [],
      "source": [
        "# set a criterion of the model to measure the error, to measure how far off the predictions are from the actual data\n",
        "criterion = nn.CrossEntropyLoss()\n",
        "# choose an optimiser - using Adam optimiser, lr (learning rate) = if learning rate does not go down through each iteration, it should be lowered to learn slower\n",
        "optimiser = torch.optim.Adam(model.parameters(), lr=0.01) # lower learning rate takes longer to train the model\n",
        "#model.parameters() are the layers: fc1, fc2, fc3, out\n"
      ]
    },
    {
      "cell_type": "code",
      "execution_count": 55,
      "metadata": {
        "colab": {
          "base_uri": "https://localhost:8080/"
        },
        "id": "s4k5747Hj5KV",
        "outputId": "751a40ac-0a6d-4b98-c84f-51cb9f476bc4"
      },
      "outputs": [
        {
          "output_type": "stream",
          "name": "stdout",
          "text": [
            "1000: 0 and the loss is 1.2057526111602783\n",
            "1000: 100 and the loss is 0.20365874469280243\n",
            "1000: 200 and the loss is 0.18164344131946564\n",
            "1000: 300 and the loss is 0.1697489470243454\n",
            "1000: 400 and the loss is 0.16509729623794556\n",
            "1000: 500 and the loss is 0.1593054234981537\n",
            "1000: 600 and the loss is 0.13945472240447998\n",
            "1000: 700 and the loss is 0.10979465395212173\n",
            "1000: 800 and the loss is 0.1169462576508522\n",
            "1000: 900 and the loss is 0.10392238199710846\n"
          ]
        }
      ],
      "source": [
        "# Train model, determining how many epochs needed. Epoch = 1 run through the entire network\n",
        "epoch = 1000\n",
        "losses = [] # to keep track of the losses to track progress\n",
        "for i in range(epoch):\n",
        "  # Go forward and get prediciton\n",
        "  y_pred = model.forward(X_train) # using the features to move forward and get predicitive results\n",
        "\n",
        "  # Measure the loss\n",
        "  loss = criterion(y_pred, y_train) #predicted value vs y-train value\n",
        "  losses.append(loss.detach().numpy())\n",
        "\n",
        "  if i % 100 == 0:\n",
        "    print(f'{epoch}: {i} and the loss is {loss}')\n",
        "\n",
        "  # Back propogation = take the error rate of the forward propogation and feed it back through the neural network to tweak the weights\n",
        "  optimiser.zero_grad() # Clears the old gradient values, ensuring gradients from the previous iterations don’t accumulate.\n",
        "  loss.backward() # Performs backpropagation to calculate the new gradients of the loss with respect to each parameter (weights)\n",
        "  optimiser.step() # Uses the calculated gradients to update the model's parameters, moving them toward values that minimize the loss"
      ]
    },
    {
      "cell_type": "code",
      "execution_count": 56,
      "metadata": {
        "colab": {
          "base_uri": "https://localhost:8080/",
          "height": 449
        },
        "id": "mQI3cc7xmavQ",
        "outputId": "3503cf9b-df1e-497a-ef98-80fb35125215"
      },
      "outputs": [
        {
          "output_type": "display_data",
          "data": {
            "text/plain": [
              "<Figure size 640x480 with 1 Axes>"
            ],
            "image/png": "[encoded data removed]"
          },
          "metadata": {}
        }
      ],
      "source": [
        "# Graphing out the losses\n",
        "plt.plot(range(epoch), losses) # y-axis = losses\n",
        "plt.ylabel(\"Loss/error\")\n",
        "plt.xlabel(\"Epoch\")\n",
        "plt.show()"
      ]
    },
    {
      "cell_type": "code",
      "execution_count": 57,
      "metadata": {
        "id": "n32LZPvhniAL"
      },
      "outputs": [],
      "source": [
        "# Evaluate deep learning results on our test data\n",
        "with torch.no_grad():\n",
        "   #turns off back propogation\n",
        "   y_eval = model.forward(X_test) # testing the model on the new dataset, features from test set on predictions\n",
        "   loss = criterion(y_eval, y_test) # find the loss error"
      ]
    },
    {
      "cell_type": "code",
      "execution_count": 58,
      "metadata": {
        "colab": {
          "base_uri": "https://localhost:8080/"
        },
        "id": "Ab0cRSVWoMfv",
        "outputId": "096aa54b-4dc1-4a9c-cbbc-4aedc5dab424"
      },
      "outputs": [
        {
          "output_type": "execute_result",
          "data": {
            "text/plain": [
              "tensor(0.0936)"
            ]
          },
          "metadata": {},
          "execution_count": 58
        }
      ],
      "source": [
        "loss"
      ]
    },
    {
      "cell_type": "code",
      "execution_count": 59,
      "metadata": {
        "colab": {
          "base_uri": "https://localhost:8080/"
        },
        "id": "ohse-es2obAT",
        "outputId": "f07911d9-d61a-4f83-8693-ae3d883e739b"
      },
      "outputs": [
        {
          "output_type": "stream",
          "name": "stdout",
          "text": [
            "1.) tensor([ 8.6150,  0.0000, 16.6214]) \t 2 \t 2\n",
            "2.) tensor([6.3466, 6.5642, 0.0000]) \t 1 \t 1\n",
            "3.) tensor([9.2927, 0.0000, 4.6359]) \t 0 \t 0\n",
            "4.) tensor([ 6.4779, 11.5207,  0.0000]) \t 1 \t 1\n",
            "5.) tensor([ 6.8172, 14.4747,  0.0000]) \t 1 \t 1\n",
            "6.) tensor([7.8979, 9.7998, 0.0000]) \t 1 \t 1\n",
            "7.) tensor([ 7.1447, 15.1391,  0.0000]) \t 1 \t 1\n",
            "8.) tensor([11.4513,  0.0000, 17.5469]) \t 2 \t 2\n",
            "9.) tensor([ 6.5927, 13.7774,  0.0000]) \t 1 \t 1\n",
            "10.) tensor([8.5738, 5.0926, 0.0000]) \t 0 \t 0\n",
            "11.) tensor([12.6942,  0.0000, 17.8558]) \t 2 \t 2\n",
            "12.) tensor([ 9.2957,  0.0000, 11.6941]) \t 2 \t 2\n",
            "13.) tensor([9.3306, 0.0000, 3.0959]) \t 0 \t 0\n",
            "14.) tensor([ 8.7851,  0.0000, 21.9883]) \t 2 \t 2\n",
            "15.) tensor([ 8.9906,  0.0000, 12.2551]) \t 2 \t 2\n",
            "16.) tensor([9.4201, 0.0000, 6.1369]) \t 0 \t 0\n",
            "17.) tensor([11.7969,  0.0000, 14.0824]) \t 2 \t 2\n",
            "18.) tensor([9.3068, 0.0000, 2.1221]) \t 0 \t 0\n",
            "19.) tensor([8.9711, 0.0000, 2.0954]) \t 0 \t 0\n",
            "20.) tensor([8.2958, 3.1058, 0.0000]) \t 0 \t 0\n",
            "21.) tensor([8.8137, 0.0000, 6.1805]) \t 0 \t 0\n",
            "22.) tensor([ 7.2240, 15.1978,  0.0000]) \t 1 \t 1\n",
            "23.) tensor([ 7.2081, 15.2492,  0.0000]) \t 1 \t 1\n",
            "24.) tensor([ 7.6141,  0.0000, 11.9837]) \t 2 \t 2\n",
            "25.) tensor([11.4785,  0.0000, 20.9340]) \t 2 \t 2\n",
            "26.) tensor([ 8.2257, 17.2276,  0.0000]) \t 1 \t 1\n",
            "27.) tensor([8.3194, 1.4888, 0.1963]) \t 0 \t 0\n",
            "28.) tensor([ 8.2392, 11.2416,  0.0000]) \t 1 \t 1\n",
            "29.) tensor([9.2520, 0.0000, 2.0174]) \t 0 \t 0\n",
            "30.) tensor([8.8252, 0.9273, 0.2345]) \t 0 \t 0\n",
            "31.) tensor([ 8.8160,  0.0000, 11.9236]) \t 2 \t 2\n",
            "32.) tensor([ 8.6636,  0.0000, 19.5118]) \t 2 \t 2\n",
            "33.) tensor([12.2194,  0.0000, 19.6028]) \t 2 \t 2\n",
            "34.) tensor([ 7.5322, 13.1412,  0.0000]) \t 1 \t 1\n",
            "35.) tensor([8.0470, 3.4819, 0.0000]) \t 0 \t 0\n",
            "36.) tensor([ 6.6188, 13.7865,  0.0000]) \t 1 \t 1\n",
            "37.) tensor([10.2698,  0.0000,  2.1244]) \t 0 \t 0\n",
            "38.) tensor([ 8.4132,  0.0000, 13.2344]) \t 2 \t 2\n",
            "39.) tensor([ 8.8060,  0.0000, 10.7709]) \t 2 \t 2\n",
            "40.) tensor([8.3174, 0.0000, 7.3912]) \t 2 \t 0\n",
            "41.) tensor([13.2029,  0.0000, 15.8279]) \t 2 \t 2\n",
            "42.) tensor([7.5805, 8.4394, 0.0000]) \t 0 \t 1\n",
            "We got 40 correct!. Accuracy: 40/42 (95.24%)\n",
            "The mean difference between predicted and actual quality: 0.0714\n"
          ]
        }
      ],
      "source": [
        "correct = 0\n",
        "diff = []\n",
        "with torch.no_grad():\n",
        "  for i, data in enumerate(X_test): #features test set\n",
        "    y_val = model.forward(data) #outcome of testing\n",
        "\n",
        "    # tells us what type of flower out network thinks it is\n",
        "\n",
        "    print(f'{i+1}.) {str(y_val)} \\t {y_test[i]} \\t {y_val.argmax().item()}') # compares feature test to target test\n",
        "\n",
        "    # correct or not\n",
        "    if y_val.argmax().item() == y_test[i]: # if the index of the max tensor in the feature test == target test value\n",
        "      correct +=1\n",
        "\n",
        "    x = abs((y_val.argmax().item() - y_test[i]))\n",
        "    diff.append(x)\n",
        "\n",
        "print(f'We got {correct} correct!. Accuracy: {correct}/{len(y_test)} ({((correct/y_test.size(0))*100):.2f}%)')\n",
        "print(f'The mean difference between predicted and actual quality: {sum(diff) / len(diff):.4f}')"
      ]
    },
    {
      "cell_type": "code",
      "source": [
        "# Allows a new alcohol to be passed through the model to guess what the quality is\n",
        "def testing(area, perimeter, compactness, kernel_length, kernel_width, asymmetry_coefficient, groove_length):\n",
        "  new_seed = torch.tensor([area, perimeter, compactness, kernel_length, kernel_width, asymmetry_coefficient, groove_length])\n",
        "  with torch.no_grad(): # without back propogation\n",
        "    z = model(new_seed)\n",
        "    z_quality = z.argmax().item()  # max index in tensor\n",
        "    print(z)\n",
        "    print(f'Class guess is: {z_quality} => ({z_quality+1})')\n"
      ],
      "metadata": {
        "id": "Y3i_DDjrgdNN"
      },
      "execution_count": 60,
      "outputs": []
    },
    {
      "cell_type": "code",
      "source": [
        "testing(14.88, 14.57, 0.8811, 5.554, 3.333, 1.018, 4.956)"
      ],
      "metadata": {
        "colab": {
          "base_uri": "https://localhost:8080/"
        },
        "id": "7kp6kM00hDU1",
        "outputId": "5ce2bfcf-fe46-4ce7-8014-1ee4dd36bc51"
      },
      "execution_count": 61,
      "outputs": [
        {
          "output_type": "stream",
          "name": "stdout",
          "text": [
            "tensor([10.2482,  0.0000,  3.1072])\n",
            "Class guess is: 0 => (1)\n"
          ]
        }
      ]
    },
    {
      "cell_type": "code",
      "source": [
        "# saving the model as a dictionary\n",
        "torch.save(model.state_dict(), 'my_seeds_nn.pt')"
      ],
      "metadata": {
        "id": "SxBAbjaUj9MI"
      },
      "execution_count": 62,
      "outputs": []
    },
    {
      "cell_type": "code",
      "source": [
        "# loading the saved model\n",
        "new_model = Model()\n",
        "new_model.load_state_dict(torch.load('my_seeds_nn.pt'))\n",
        "\n",
        "# making sure it loaded successfully (checking instance variables)\n",
        "new_model.eval()"
      ],
      "metadata": {
        "id": "iZ4zkVdkkKNt",
        "colab": {
          "base_uri": "https://localhost:8080/"
        },
        "outputId": "7c9bd594-b4a6-4c08-f901-a3baf6b19c00"
      },
      "execution_count": 63,
      "outputs": [
        {
          "output_type": "stream",
          "name": "stderr",
          "text": [
            "<ipython-input-63-b7b7d15aec4a>:3: FutureWarning: You are using `torch.load` with `weights_only=False` (the current default value), which uses the default pickle module implicitly. It is possible to construct malicious pickle data which will execute arbitrary code during unpickling (See https://github.com/pytorch/pytorch/blob/main/SECURITY.md#untrusted-models for more details). In a future release, the default value for `weights_only` will be flipped to `True`. This limits the functions that could be executed during unpickling. Arbitrary objects will no longer be allowed to be loaded via this mode unless they are explicitly allowlisted by the user via `torch.serialization.add_safe_globals`. We recommend you start setting `weights_only=True` for any use case where you don't have full control of the loaded file. Please open an issue on GitHub for any issues related to this experimental feature.\n",
            "  new_model.load_state_dict(torch.load('my_seeds_nn.pt'))\n"
          ]
        },
        {
          "output_type": "execute_result",
          "data": {
            "text/plain": [
              "Model(\n",
              "  (fc1): Linear(in_features=7, out_features=20, bias=True)\n",
              "  (fc2): Linear(in_features=20, out_features=20, bias=True)\n",
              "  (fc3): Linear(in_features=20, out_features=20, bias=True)\n",
              "  (out): Linear(in_features=20, out_features=3, bias=True)\n",
              ")"
            ]
          },
          "metadata": {},
          "execution_count": 63
        }
      ]
    }
  ]
}